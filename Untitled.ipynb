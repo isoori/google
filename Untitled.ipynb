{
 "cells": [
  {
   "cell_type": "code",
   "execution_count": 152,
   "id": "fc406638",
   "metadata": {},
   "outputs": [],
   "source": [
    "import numpy as np\n",
    "import pandas as pd\n",
    "import tensorflow as tf\n",
    "import matplotlib.pyplot as plt\n",
    "\n",
    "from sklearn.preprocessing import MinMaxScaler\n",
    "from sklearn.metrics import r2_score\n",
    "\n",
    "from tensorflow import keras\n",
    "from keras.layers import Dense,LSTM,Dropout,SimpleRNN\n",
    "from keras.models import Sequential"
   ]
  },
  {
   "cell_type": "code",
   "execution_count": 119,
   "id": "e944267d",
   "metadata": {},
   "outputs": [
    {
     "data": {
      "text/html": [
       "<div>\n",
       "<style scoped>\n",
       "    .dataframe tbody tr th:only-of-type {\n",
       "        vertical-align: middle;\n",
       "    }\n",
       "\n",
       "    .dataframe tbody tr th {\n",
       "        vertical-align: top;\n",
       "    }\n",
       "\n",
       "    .dataframe thead th {\n",
       "        text-align: right;\n",
       "    }\n",
       "</style>\n",
       "<table border=\"1\" class=\"dataframe\">\n",
       "  <thead>\n",
       "    <tr style=\"text-align: right;\">\n",
       "      <th></th>\n",
       "      <th>Month Starting</th>\n",
       "      <th>Open</th>\n",
       "      <th>High</th>\n",
       "      <th>Low</th>\n",
       "      <th>Close</th>\n",
       "      <th>Change %</th>\n",
       "      <th>Avg. Volume</th>\n",
       "    </tr>\n",
       "  </thead>\n",
       "  <tbody>\n",
       "    <tr>\n",
       "      <th>0</th>\n",
       "      <td>Dec. 01, 2022</td>\n",
       "      <td>101.38</td>\n",
       "      <td>102.59</td>\n",
       "      <td>100.67</td>\n",
       "      <td>101.28</td>\n",
       "      <td>-0.0017</td>\n",
       "      <td>21771536</td>\n",
       "    </tr>\n",
       "    <tr>\n",
       "      <th>1</th>\n",
       "      <td>Nov. 01, 2022</td>\n",
       "      <td>95.59</td>\n",
       "      <td>101.45</td>\n",
       "      <td>83.45</td>\n",
       "      <td>101.45</td>\n",
       "      <td>0.0717</td>\n",
       "      <td>28294944</td>\n",
       "    </tr>\n",
       "    <tr>\n",
       "      <th>2</th>\n",
       "      <td>Oct. 03, 2022</td>\n",
       "      <td>97.22</td>\n",
       "      <td>105.10</td>\n",
       "      <td>91.90</td>\n",
       "      <td>94.66</td>\n",
       "      <td>-0.0155</td>\n",
       "      <td>27843110</td>\n",
       "    </tr>\n",
       "    <tr>\n",
       "      <th>3</th>\n",
       "      <td>Sep. 01, 2022</td>\n",
       "      <td>109.20</td>\n",
       "      <td>112.64</td>\n",
       "      <td>96.03</td>\n",
       "      <td>96.15</td>\n",
       "      <td>-0.1191</td>\n",
       "      <td>25381194</td>\n",
       "    </tr>\n",
       "    <tr>\n",
       "      <th>4</th>\n",
       "      <td>Aug. 01, 2022</td>\n",
       "      <td>115.53</td>\n",
       "      <td>123.26</td>\n",
       "      <td>108.80</td>\n",
       "      <td>109.15</td>\n",
       "      <td>-0.0642</td>\n",
       "      <td>18737451</td>\n",
       "    </tr>\n",
       "    <tr>\n",
       "      <th>...</th>\n",
       "      <td>...</td>\n",
       "      <td>...</td>\n",
       "      <td>...</td>\n",
       "      <td>...</td>\n",
       "      <td>...</td>\n",
       "      <td>...</td>\n",
       "      <td>...</td>\n",
       "    </tr>\n",
       "    <tr>\n",
       "      <th>101</th>\n",
       "      <td>Jul. 01, 2014</td>\n",
       "      <td>28.92</td>\n",
       "      <td>29.98</td>\n",
       "      <td>28.25</td>\n",
       "      <td>28.58</td>\n",
       "      <td>-0.0064</td>\n",
       "      <td>31411358</td>\n",
       "    </tr>\n",
       "    <tr>\n",
       "      <th>102</th>\n",
       "      <td>Jun. 02, 2014</td>\n",
       "      <td>28.03</td>\n",
       "      <td>29.12</td>\n",
       "      <td>26.94</td>\n",
       "      <td>28.76</td>\n",
       "      <td>0.0275</td>\n",
       "      <td>36121936</td>\n",
       "    </tr>\n",
       "    <tr>\n",
       "      <th>103</th>\n",
       "      <td>May. 01, 2014</td>\n",
       "      <td>26.35</td>\n",
       "      <td>28.39</td>\n",
       "      <td>25.16</td>\n",
       "      <td>27.99</td>\n",
       "      <td>0.0631</td>\n",
       "      <td>34808252</td>\n",
       "    </tr>\n",
       "    <tr>\n",
       "      <th>104</th>\n",
       "      <td>Apr. 01, 2014</td>\n",
       "      <td>27.93</td>\n",
       "      <td>30.24</td>\n",
       "      <td>25.14</td>\n",
       "      <td>26.33</td>\n",
       "      <td>-0.0544</td>\n",
       "      <td>64037909</td>\n",
       "    </tr>\n",
       "    <tr>\n",
       "      <th>105</th>\n",
       "      <td>Mar. 27, 2014</td>\n",
       "      <td>28.40</td>\n",
       "      <td>28.40</td>\n",
       "      <td>27.65</td>\n",
       "      <td>27.85</td>\n",
       "      <td>0.0000</td>\n",
       "      <td>432192</td>\n",
       "    </tr>\n",
       "  </tbody>\n",
       "</table>\n",
       "<p>106 rows × 7 columns</p>\n",
       "</div>"
      ],
      "text/plain": [
       "    Month Starting    Open    High     Low   Close  Change %  Avg. Volume\n",
       "0    Dec. 01, 2022  101.38  102.59  100.67  101.28   -0.0017     21771536\n",
       "1    Nov. 01, 2022   95.59  101.45   83.45  101.45    0.0717     28294944\n",
       "2    Oct. 03, 2022   97.22  105.10   91.90   94.66   -0.0155     27843110\n",
       "3    Sep. 01, 2022  109.20  112.64   96.03   96.15   -0.1191     25381194\n",
       "4    Aug. 01, 2022  115.53  123.26  108.80  109.15   -0.0642     18737451\n",
       "..             ...     ...     ...     ...     ...       ...          ...\n",
       "101  Jul. 01, 2014   28.92   29.98   28.25   28.58   -0.0064     31411358\n",
       "102  Jun. 02, 2014   28.03   29.12   26.94   28.76    0.0275     36121936\n",
       "103  May. 01, 2014   26.35   28.39   25.16   27.99    0.0631     34808252\n",
       "104  Apr. 01, 2014   27.93   30.24   25.14   26.33   -0.0544     64037909\n",
       "105  Mar. 27, 2014   28.40   28.40   27.65   27.85    0.0000       432192\n",
       "\n",
       "[106 rows x 7 columns]"
      ]
     },
     "execution_count": 119,
     "metadata": {},
     "output_type": "execute_result"
    }
   ],
   "source": [
    "data = pd.read_excel(\"Google Dataset.xlsx\")\n",
    "data"
   ]
  },
  {
   "cell_type": "code",
   "execution_count": 120,
   "id": "3db36d6b",
   "metadata": {},
   "outputs": [],
   "source": [
    "data.rename(columns={\"Month Starting\":\"date\"},inplace=True)"
   ]
  },
  {
   "cell_type": "code",
   "execution_count": 121,
   "id": "fd6bcd6b",
   "metadata": {},
   "outputs": [],
   "source": [
    "data = data.iloc[::-1]"
   ]
  },
  {
   "cell_type": "code",
   "execution_count": 122,
   "id": "6252a075",
   "metadata": {},
   "outputs": [],
   "source": [
    "data=data.reset_index(drop=True)"
   ]
  },
  {
   "cell_type": "code",
   "execution_count": 123,
   "id": "507295e6",
   "metadata": {},
   "outputs": [
    {
     "data": {
      "text/html": [
       "<div>\n",
       "<style scoped>\n",
       "    .dataframe tbody tr th:only-of-type {\n",
       "        vertical-align: middle;\n",
       "    }\n",
       "\n",
       "    .dataframe tbody tr th {\n",
       "        vertical-align: top;\n",
       "    }\n",
       "\n",
       "    .dataframe thead th {\n",
       "        text-align: right;\n",
       "    }\n",
       "</style>\n",
       "<table border=\"1\" class=\"dataframe\">\n",
       "  <thead>\n",
       "    <tr style=\"text-align: right;\">\n",
       "      <th></th>\n",
       "      <th>date</th>\n",
       "      <th>Open</th>\n",
       "      <th>High</th>\n",
       "      <th>Low</th>\n",
       "      <th>Close</th>\n",
       "      <th>Change %</th>\n",
       "      <th>Avg. Volume</th>\n",
       "    </tr>\n",
       "  </thead>\n",
       "  <tbody>\n",
       "    <tr>\n",
       "      <th>0</th>\n",
       "      <td>Mar. 27, 2014</td>\n",
       "      <td>28.40</td>\n",
       "      <td>28.40</td>\n",
       "      <td>27.65</td>\n",
       "      <td>27.85</td>\n",
       "      <td>0.0000</td>\n",
       "      <td>432192</td>\n",
       "    </tr>\n",
       "    <tr>\n",
       "      <th>1</th>\n",
       "      <td>Apr. 01, 2014</td>\n",
       "      <td>27.93</td>\n",
       "      <td>30.24</td>\n",
       "      <td>25.14</td>\n",
       "      <td>26.33</td>\n",
       "      <td>-0.0544</td>\n",
       "      <td>64037909</td>\n",
       "    </tr>\n",
       "    <tr>\n",
       "      <th>2</th>\n",
       "      <td>May. 01, 2014</td>\n",
       "      <td>26.35</td>\n",
       "      <td>28.39</td>\n",
       "      <td>25.16</td>\n",
       "      <td>27.99</td>\n",
       "      <td>0.0631</td>\n",
       "      <td>34808252</td>\n",
       "    </tr>\n",
       "    <tr>\n",
       "      <th>3</th>\n",
       "      <td>Jun. 02, 2014</td>\n",
       "      <td>28.03</td>\n",
       "      <td>29.12</td>\n",
       "      <td>26.94</td>\n",
       "      <td>28.76</td>\n",
       "      <td>0.0275</td>\n",
       "      <td>36121936</td>\n",
       "    </tr>\n",
       "    <tr>\n",
       "      <th>4</th>\n",
       "      <td>Jul. 01, 2014</td>\n",
       "      <td>28.92</td>\n",
       "      <td>29.98</td>\n",
       "      <td>28.25</td>\n",
       "      <td>28.58</td>\n",
       "      <td>-0.0064</td>\n",
       "      <td>31411358</td>\n",
       "    </tr>\n",
       "    <tr>\n",
       "      <th>...</th>\n",
       "      <td>...</td>\n",
       "      <td>...</td>\n",
       "      <td>...</td>\n",
       "      <td>...</td>\n",
       "      <td>...</td>\n",
       "      <td>...</td>\n",
       "      <td>...</td>\n",
       "    </tr>\n",
       "    <tr>\n",
       "      <th>101</th>\n",
       "      <td>Aug. 01, 2022</td>\n",
       "      <td>115.53</td>\n",
       "      <td>123.26</td>\n",
       "      <td>108.80</td>\n",
       "      <td>109.15</td>\n",
       "      <td>-0.0642</td>\n",
       "      <td>18737451</td>\n",
       "    </tr>\n",
       "    <tr>\n",
       "      <th>102</th>\n",
       "      <td>Sep. 01, 2022</td>\n",
       "      <td>109.20</td>\n",
       "      <td>112.64</td>\n",
       "      <td>96.03</td>\n",
       "      <td>96.15</td>\n",
       "      <td>-0.1191</td>\n",
       "      <td>25381194</td>\n",
       "    </tr>\n",
       "    <tr>\n",
       "      <th>103</th>\n",
       "      <td>Oct. 03, 2022</td>\n",
       "      <td>97.22</td>\n",
       "      <td>105.10</td>\n",
       "      <td>91.90</td>\n",
       "      <td>94.66</td>\n",
       "      <td>-0.0155</td>\n",
       "      <td>27843110</td>\n",
       "    </tr>\n",
       "    <tr>\n",
       "      <th>104</th>\n",
       "      <td>Nov. 01, 2022</td>\n",
       "      <td>95.59</td>\n",
       "      <td>101.45</td>\n",
       "      <td>83.45</td>\n",
       "      <td>101.45</td>\n",
       "      <td>0.0717</td>\n",
       "      <td>28294944</td>\n",
       "    </tr>\n",
       "    <tr>\n",
       "      <th>105</th>\n",
       "      <td>Dec. 01, 2022</td>\n",
       "      <td>101.38</td>\n",
       "      <td>102.59</td>\n",
       "      <td>100.67</td>\n",
       "      <td>101.28</td>\n",
       "      <td>-0.0017</td>\n",
       "      <td>21771536</td>\n",
       "    </tr>\n",
       "  </tbody>\n",
       "</table>\n",
       "<p>106 rows × 7 columns</p>\n",
       "</div>"
      ],
      "text/plain": [
       "              date    Open    High     Low   Close  Change %  Avg. Volume\n",
       "0    Mar. 27, 2014   28.40   28.40   27.65   27.85    0.0000       432192\n",
       "1    Apr. 01, 2014   27.93   30.24   25.14   26.33   -0.0544     64037909\n",
       "2    May. 01, 2014   26.35   28.39   25.16   27.99    0.0631     34808252\n",
       "3    Jun. 02, 2014   28.03   29.12   26.94   28.76    0.0275     36121936\n",
       "4    Jul. 01, 2014   28.92   29.98   28.25   28.58   -0.0064     31411358\n",
       "..             ...     ...     ...     ...     ...       ...          ...\n",
       "101  Aug. 01, 2022  115.53  123.26  108.80  109.15   -0.0642     18737451\n",
       "102  Sep. 01, 2022  109.20  112.64   96.03   96.15   -0.1191     25381194\n",
       "103  Oct. 03, 2022   97.22  105.10   91.90   94.66   -0.0155     27843110\n",
       "104  Nov. 01, 2022   95.59  101.45   83.45  101.45    0.0717     28294944\n",
       "105  Dec. 01, 2022  101.38  102.59  100.67  101.28   -0.0017     21771536\n",
       "\n",
       "[106 rows x 7 columns]"
      ]
     },
     "execution_count": 123,
     "metadata": {},
     "output_type": "execute_result"
    }
   ],
   "source": [
    "data"
   ]
  },
  {
   "cell_type": "code",
   "execution_count": 124,
   "id": "e3addc57",
   "metadata": {},
   "outputs": [
    {
     "data": {
      "text/plain": [
       "<AxesSubplot:>"
      ]
     },
     "execution_count": 124,
     "metadata": {},
     "output_type": "execute_result"
    },
    {
     "data": {
      "image/png": "[encoded data removed]",
      "text/plain": [
       "<Figure size 432x288 with 1 Axes>"
      ]
     },
     "metadata": {
      "needs_background": "light"
     },
     "output_type": "display_data"
    }
   ],
   "source": [
    "data['Close'].plot()"
   ]
  },
  {
   "cell_type": "code",
   "execution_count": 125,
   "id": "60da22b3",
   "metadata": {},
   "outputs": [
    {
     "data": {
      "text/plain": [
       "array([ 27.85,  26.33,  27.99,  28.76,  28.58,  28.58,  28.87,  27.95,\n",
       "        27.09,  26.32,  26.73,  27.92,  27.4 ,  26.87,  26.61,  26.03,\n",
       "        31.28,  30.91,  30.42,  35.54,  37.13,  37.94,  37.15,  34.89,\n",
       "        37.25,  34.65,  36.79,  34.61,  38.44,  38.35,  38.86,  39.23,\n",
       "        37.9 ,  38.59,  39.84,  41.16,  41.48,  45.3 ,  48.24,  45.44,\n",
       "        46.53,  46.97,  47.96,  50.83,  51.07,  52.32,  58.5 ,  55.24,\n",
       "        51.59,  50.87,  54.25,  55.78,  60.86,  60.91,  59.67,  53.84,\n",
       "        54.72,  51.78,  55.82,  56.  ,  58.67,  59.42,  55.18,  54.05,\n",
       "        60.83,  59.41,  60.95,  63.01,  65.25,  66.85,  71.71,  66.97,\n",
       "        58.14,  67.43,  71.45,  70.68,  74.15,  81.71,  73.48,  81.05,\n",
       "        88.04,  87.59,  91.79, 101.84, 103.43, 120.51, 120.58, 125.32,\n",
       "       135.22, 145.46, 133.27, 148.27, 142.45, 144.68, 135.7 , 134.89,\n",
       "       139.65, 114.97, 114.04, 109.37, 116.64, 109.15,  96.15,  94.66,\n",
       "       101.45, 101.28])"
      ]
     },
     "execution_count": 125,
     "metadata": {},
     "output_type": "execute_result"
    }
   ],
   "source": [
    "data = data['Close'].values\n",
    "data"
   ]
  },
  {
   "cell_type": "code",
   "execution_count": 126,
   "id": "0351d3e9",
   "metadata": {},
   "outputs": [
    {
     "data": {
      "text/plain": [
       "array([[ 27.85],\n",
       "       [ 26.33],\n",
       "       [ 27.99],\n",
       "       [ 28.76],\n",
       "       [ 28.58],\n",
       "       [ 28.58],\n",
       "       [ 28.87],\n",
       "       [ 27.95],\n",
       "       [ 27.09],\n",
       "       [ 26.32],\n",
       "       [ 26.73],\n",
       "       [ 27.92],\n",
       "       [ 27.4 ],\n",
       "       [ 26.87],\n",
       "       [ 26.61],\n",
       "       [ 26.03],\n",
       "       [ 31.28],\n",
       "       [ 30.91],\n",
       "       [ 30.42],\n",
       "       [ 35.54],\n",
       "       [ 37.13],\n",
       "       [ 37.94],\n",
       "       [ 37.15],\n",
       "       [ 34.89],\n",
       "       [ 37.25],\n",
       "       [ 34.65],\n",
       "       [ 36.79],\n",
       "       [ 34.61],\n",
       "       [ 38.44],\n",
       "       [ 38.35],\n",
       "       [ 38.86],\n",
       "       [ 39.23],\n",
       "       [ 37.9 ],\n",
       "       [ 38.59],\n",
       "       [ 39.84],\n",
       "       [ 41.16],\n",
       "       [ 41.48],\n",
       "       [ 45.3 ],\n",
       "       [ 48.24],\n",
       "       [ 45.44],\n",
       "       [ 46.53],\n",
       "       [ 46.97],\n",
       "       [ 47.96],\n",
       "       [ 50.83],\n",
       "       [ 51.07],\n",
       "       [ 52.32],\n",
       "       [ 58.5 ],\n",
       "       [ 55.24],\n",
       "       [ 51.59],\n",
       "       [ 50.87],\n",
       "       [ 54.25],\n",
       "       [ 55.78],\n",
       "       [ 60.86],\n",
       "       [ 60.91],\n",
       "       [ 59.67],\n",
       "       [ 53.84],\n",
       "       [ 54.72],\n",
       "       [ 51.78],\n",
       "       [ 55.82],\n",
       "       [ 56.  ],\n",
       "       [ 58.67],\n",
       "       [ 59.42],\n",
       "       [ 55.18],\n",
       "       [ 54.05],\n",
       "       [ 60.83],\n",
       "       [ 59.41],\n",
       "       [ 60.95],\n",
       "       [ 63.01],\n",
       "       [ 65.25],\n",
       "       [ 66.85],\n",
       "       [ 71.71],\n",
       "       [ 66.97],\n",
       "       [ 58.14],\n",
       "       [ 67.43],\n",
       "       [ 71.45],\n",
       "       [ 70.68],\n",
       "       [ 74.15],\n",
       "       [ 81.71],\n",
       "       [ 73.48],\n",
       "       [ 81.05],\n",
       "       [ 88.04],\n",
       "       [ 87.59],\n",
       "       [ 91.79],\n",
       "       [101.84],\n",
       "       [103.43],\n",
       "       [120.51],\n",
       "       [120.58],\n",
       "       [125.32],\n",
       "       [135.22],\n",
       "       [145.46],\n",
       "       [133.27],\n",
       "       [148.27],\n",
       "       [142.45],\n",
       "       [144.68],\n",
       "       [135.7 ],\n",
       "       [134.89],\n",
       "       [139.65],\n",
       "       [114.97],\n",
       "       [114.04],\n",
       "       [109.37],\n",
       "       [116.64],\n",
       "       [109.15],\n",
       "       [ 96.15],\n",
       "       [ 94.66],\n",
       "       [101.45],\n",
       "       [101.28]])"
      ]
     },
     "execution_count": 126,
     "metadata": {},
     "output_type": "execute_result"
    }
   ],
   "source": [
    "data = data.reshape(-1,1)\n",
    "data"
   ]
  },
  {
   "cell_type": "code",
   "execution_count": 127,
   "id": "5ced633f",
   "metadata": {},
   "outputs": [],
   "source": [
    "train = data[:data.shape[0]-25]\n",
    "test = data[len(train):]\n"
   ]
  },
  {
   "cell_type": "code",
   "execution_count": 128,
   "id": "863cc08e",
   "metadata": {},
   "outputs": [
    {
     "data": {
      "text/plain": [
       "array([[27.85],\n",
       "       [26.33],\n",
       "       [27.99],\n",
       "       [28.76],\n",
       "       [28.58],\n",
       "       [28.58],\n",
       "       [28.87],\n",
       "       [27.95],\n",
       "       [27.09],\n",
       "       [26.32],\n",
       "       [26.73],\n",
       "       [27.92],\n",
       "       [27.4 ],\n",
       "       [26.87],\n",
       "       [26.61],\n",
       "       [26.03],\n",
       "       [31.28],\n",
       "       [30.91],\n",
       "       [30.42],\n",
       "       [35.54],\n",
       "       [37.13],\n",
       "       [37.94],\n",
       "       [37.15],\n",
       "       [34.89],\n",
       "       [37.25],\n",
       "       [34.65],\n",
       "       [36.79],\n",
       "       [34.61],\n",
       "       [38.44],\n",
       "       [38.35],\n",
       "       [38.86],\n",
       "       [39.23],\n",
       "       [37.9 ],\n",
       "       [38.59],\n",
       "       [39.84],\n",
       "       [41.16],\n",
       "       [41.48],\n",
       "       [45.3 ],\n",
       "       [48.24],\n",
       "       [45.44],\n",
       "       [46.53],\n",
       "       [46.97],\n",
       "       [47.96],\n",
       "       [50.83],\n",
       "       [51.07],\n",
       "       [52.32],\n",
       "       [58.5 ],\n",
       "       [55.24],\n",
       "       [51.59],\n",
       "       [50.87],\n",
       "       [54.25],\n",
       "       [55.78],\n",
       "       [60.86],\n",
       "       [60.91],\n",
       "       [59.67],\n",
       "       [53.84],\n",
       "       [54.72],\n",
       "       [51.78],\n",
       "       [55.82],\n",
       "       [56.  ],\n",
       "       [58.67],\n",
       "       [59.42],\n",
       "       [55.18],\n",
       "       [54.05],\n",
       "       [60.83],\n",
       "       [59.41],\n",
       "       [60.95],\n",
       "       [63.01],\n",
       "       [65.25],\n",
       "       [66.85],\n",
       "       [71.71],\n",
       "       [66.97],\n",
       "       [58.14],\n",
       "       [67.43],\n",
       "       [71.45],\n",
       "       [70.68],\n",
       "       [74.15],\n",
       "       [81.71],\n",
       "       [73.48],\n",
       "       [81.05],\n",
       "       [88.04]])"
      ]
     },
     "execution_count": 128,
     "metadata": {},
     "output_type": "execute_result"
    }
   ],
   "source": [
    "train"
   ]
  },
  {
   "cell_type": "code",
   "execution_count": 129,
   "id": "032d8c4b",
   "metadata": {},
   "outputs": [
    {
     "data": {
      "text/plain": [
       "array([[ 87.59],\n",
       "       [ 91.79],\n",
       "       [101.84],\n",
       "       [103.43],\n",
       "       [120.51],\n",
       "       [120.58],\n",
       "       [125.32],\n",
       "       [135.22],\n",
       "       [145.46],\n",
       "       [133.27],\n",
       "       [148.27],\n",
       "       [142.45],\n",
       "       [144.68],\n",
       "       [135.7 ],\n",
       "       [134.89],\n",
       "       [139.65],\n",
       "       [114.97],\n",
       "       [114.04],\n",
       "       [109.37],\n",
       "       [116.64],\n",
       "       [109.15],\n",
       "       [ 96.15],\n",
       "       [ 94.66],\n",
       "       [101.45],\n",
       "       [101.28]])"
      ]
     },
     "execution_count": 129,
     "metadata": {},
     "output_type": "execute_result"
    }
   ],
   "source": [
    "test"
   ]
  },
  {
   "cell_type": "code",
   "execution_count": 130,
   "id": "2f76a09b",
   "metadata": {},
   "outputs": [],
   "source": [
    "scaller = MinMaxScaler(feature_range=(0,1))\n",
    "train_scalled = scaller.fit_transform(train)"
   ]
  },
  {
   "cell_type": "code",
   "execution_count": 131,
   "id": "135a7050",
   "metadata": {},
   "outputs": [],
   "source": [
    "X_train , y_train = [] , []\n",
    "timesteps = 25\n",
    "\n",
    "for i in range(timesteps, train_scalled.shape[0]):\n",
    "    X_train.append(train_scalled[i-timesteps:i,0])\n",
    "    y_train.append(train_scalled[i,0])\n"
   ]
  },
  {
   "cell_type": "code",
   "execution_count": 132,
   "id": "e4b3f3c0",
   "metadata": {},
   "outputs": [],
   "source": [
    "X_train = np.array(X_train)\n",
    "y_train = np.array(y_train)"
   ]
  },
  {
   "cell_type": "code",
   "execution_count": 133,
   "id": "9e95912d",
   "metadata": {},
   "outputs": [
    {
     "data": {
      "text/plain": [
       "(56, 25)"
      ]
     },
     "execution_count": 133,
     "metadata": {},
     "output_type": "execute_result"
    }
   ],
   "source": [
    "X_train.shape"
   ]
  },
  {
   "cell_type": "code",
   "execution_count": 134,
   "id": "1298ec2b",
   "metadata": {},
   "outputs": [
    {
     "data": {
      "text/plain": [
       "(56,)"
      ]
     },
     "execution_count": 134,
     "metadata": {},
     "output_type": "execute_result"
    }
   ],
   "source": [
    "y_train.shape"
   ]
  },
  {
   "cell_type": "code",
   "execution_count": 135,
   "id": "beb9c434",
   "metadata": {},
   "outputs": [],
   "source": [
    "X_train = X_train.reshape(X_train.shape[0],X_train.shape[1],1)"
   ]
  },
  {
   "cell_type": "code",
   "execution_count": 155,
   "id": "acf0710e",
   "metadata": {},
   "outputs": [],
   "source": [
    "model = Sequential()\n",
    "model.add(LSTM(10,activation='tanh',input_shape=(None,1),return_sequences=False))\n",
    "model.add(Dense(1))\n",
    "model.compile(optimizer='adam',loss='mean_squared_error')"
   ]
  },
  {
   "cell_type": "code",
   "execution_count": null,
   "id": "250f73d7",
   "metadata": {},
   "outputs": [
    {
     "name": "stdout",
     "output_type": "stream",
     "text": [
      "Epoch 1/120\n",
      "56/56 [==============================] - 2s 4ms/step - loss: 0.1124\n",
      "Epoch 2/120\n",
      "56/56 [==============================] - 0s 4ms/step - loss: 0.0126\n",
      "Epoch 3/120\n",
      "56/56 [==============================] - 0s 4ms/step - loss: 0.0096\n",
      "Epoch 4/120\n",
      "56/56 [==============================] - 0s 4ms/step - loss: 0.0075\n",
      "Epoch 5/120\n",
      "56/56 [==============================] - 0s 4ms/step - loss: 0.0065\n",
      "Epoch 6/120\n",
      "56/56 [==============================] - 0s 4ms/step - loss: 0.0059\n",
      "Epoch 7/120\n",
      "56/56 [==============================] - 0s 4ms/step - loss: 0.0053\n",
      "Epoch 8/120\n",
      "56/56 [==============================] - 0s 4ms/step - loss: 0.0056\n",
      "Epoch 9/120\n",
      "56/56 [==============================] - 0s 4ms/step - loss: 0.0049\n",
      "Epoch 10/120\n",
      "56/56 [==============================] - 0s 4ms/step - loss: 0.0049\n",
      "Epoch 11/120\n",
      "56/56 [==============================] - 0s 5ms/step - loss: 0.0054\n",
      "Epoch 12/120\n",
      "56/56 [==============================] - 0s 4ms/step - loss: 0.0055\n",
      "Epoch 13/120\n",
      "56/56 [==============================] - 0s 4ms/step - loss: 0.0050\n",
      "Epoch 14/120\n",
      "56/56 [==============================] - 0s 4ms/step - loss: 0.0044\n",
      "Epoch 15/120\n",
      "56/56 [==============================] - 0s 4ms/step - loss: 0.0050\n",
      "Epoch 16/120\n",
      "56/56 [==============================] - 0s 4ms/step - loss: 0.0044\n",
      "Epoch 17/120\n",
      "56/56 [==============================] - 0s 4ms/step - loss: 0.0044\n",
      "Epoch 18/120\n",
      "56/56 [==============================] - 0s 4ms/step - loss: 0.0046\n",
      "Epoch 19/120\n",
      "56/56 [==============================] - 0s 4ms/step - loss: 0.0052\n",
      "Epoch 20/120\n",
      "56/56 [==============================] - 0s 4ms/step - loss: 0.0046\n",
      "Epoch 21/120\n",
      "56/56 [==============================] - 0s 5ms/step - loss: 0.0048\n",
      "Epoch 22/120\n",
      "56/56 [==============================] - 0s 4ms/step - loss: 0.0043\n",
      "Epoch 23/120\n",
      "56/56 [==============================] - 0s 5ms/step - loss: 0.0046\n",
      "Epoch 24/120\n",
      "56/56 [==============================] - 0s 5ms/step - loss: 0.0049\n",
      "Epoch 25/120\n",
      "56/56 [==============================] - 0s 5ms/step - loss: 0.0045\n",
      "Epoch 26/120\n",
      "56/56 [==============================] - 0s 4ms/step - loss: 0.0043\n",
      "Epoch 27/120\n",
      "56/56 [==============================] - 0s 5ms/step - loss: 0.0044\n",
      "Epoch 28/120\n",
      "56/56 [==============================] - 0s 5ms/step - loss: 0.0043\n",
      "Epoch 29/120\n",
      "56/56 [==============================] - 0s 4ms/step - loss: 0.0040\n",
      "Epoch 30/120\n",
      "56/56 [==============================] - 0s 4ms/step - loss: 0.0045\n",
      "Epoch 31/120\n",
      "56/56 [==============================] - 0s 5ms/step - loss: 0.0043\n",
      "Epoch 32/120\n",
      "56/56 [==============================] - 0s 4ms/step - loss: 0.0041\n",
      "Epoch 33/120\n",
      "56/56 [==============================] - 0s 4ms/step - loss: 0.0040\n",
      "Epoch 34/120\n",
      "56/56 [==============================] - 0s 4ms/step - loss: 0.0041\n",
      "Epoch 35/120\n",
      "56/56 [==============================] - 0s 4ms/step - loss: 0.0042\n",
      "Epoch 36/120\n",
      "56/56 [==============================] - 0s 4ms/step - loss: 0.0047\n",
      "Epoch 37/120\n",
      "56/56 [==============================] - 0s 4ms/step - loss: 0.0042\n",
      "Epoch 38/120\n",
      "56/56 [==============================] - 0s 4ms/step - loss: 0.0039\n",
      "Epoch 39/120\n",
      "56/56 [==============================] - 0s 4ms/step - loss: 0.0041\n",
      "Epoch 40/120\n",
      "56/56 [==============================] - 0s 4ms/step - loss: 0.0041\n",
      "Epoch 41/120\n",
      "56/56 [==============================] - 0s 4ms/step - loss: 0.0041\n",
      "Epoch 42/120\n",
      "56/56 [==============================] - 0s 4ms/step - loss: 0.0040\n",
      "Epoch 43/120\n",
      "56/56 [==============================] - 0s 4ms/step - loss: 0.0040\n",
      "Epoch 44/120\n",
      "56/56 [==============================] - 0s 4ms/step - loss: 0.0038\n",
      "Epoch 45/120\n",
      "56/56 [==============================] - 0s 4ms/step - loss: 0.0040\n",
      "Epoch 46/120\n",
      "56/56 [==============================] - 0s 4ms/step - loss: 0.0041\n",
      "Epoch 47/120\n",
      "56/56 [==============================] - 0s 4ms/step - loss: 0.0041\n",
      "Epoch 48/120\n",
      "56/56 [==============================] - 0s 4ms/step - loss: 0.0047\n",
      "Epoch 49/120\n",
      "56/56 [==============================] - 0s 4ms/step - loss: 0.0038\n",
      "Epoch 50/120\n",
      "56/56 [==============================] - 0s 4ms/step - loss: 0.0044\n",
      "Epoch 51/120\n",
      "56/56 [==============================] - 0s 4ms/step - loss: 0.0040\n",
      "Epoch 52/120\n",
      "56/56 [==============================] - 0s 4ms/step - loss: 0.0039\n",
      "Epoch 53/120\n",
      "56/56 [==============================] - 0s 4ms/step - loss: 0.0037\n",
      "Epoch 54/120\n",
      "56/56 [==============================] - 0s 5ms/step - loss: 0.0040\n",
      "Epoch 55/120\n",
      "56/56 [==============================] - 0s 4ms/step - loss: 0.0037\n",
      "Epoch 56/120\n",
      "56/56 [==============================] - 0s 4ms/step - loss: 0.0038\n",
      "Epoch 57/120\n",
      "56/56 [==============================] - 0s 4ms/step - loss: 0.0044\n",
      "Epoch 58/120\n",
      "56/56 [==============================] - 0s 5ms/step - loss: 0.0039\n",
      "Epoch 59/120\n",
      "56/56 [==============================] - 0s 4ms/step - loss: 0.0039\n",
      "Epoch 60/120\n",
      "56/56 [==============================] - 0s 5ms/step - loss: 0.0037\n",
      "Epoch 61/120\n",
      "56/56 [==============================] - 0s 5ms/step - loss: 0.0040\n",
      "Epoch 62/120\n",
      "56/56 [==============================] - 0s 5ms/step - loss: 0.0040\n",
      "Epoch 63/120\n",
      "56/56 [==============================] - 0s 4ms/step - loss: 0.0035\n",
      "Epoch 64/120\n",
      "56/56 [==============================] - 0s 4ms/step - loss: 0.0032\n",
      "Epoch 65/120\n",
      "56/56 [==============================] - 0s 4ms/step - loss: 0.0044\n",
      "Epoch 66/120\n",
      " 1/56 [..............................] - ETA: 0s - loss: 0.0202"
     ]
    }
   ],
   "source": [
    "model.fit(X_train,y_train,batch_size=1,epochs=120)"
   ]
  },
  {
   "cell_type": "code",
   "execution_count": 139,
   "id": "af9bdddb",
   "metadata": {},
   "outputs": [],
   "source": [
    "Xc = data[len(data)-len(test)-timesteps:]"
   ]
  },
  {
   "cell_type": "code",
   "execution_count": 141,
   "id": "d4cd9195",
   "metadata": {},
   "outputs": [],
   "source": [
    "Xc = Xc.reshape(-1,1)"
   ]
  },
  {
   "cell_type": "code",
   "execution_count": 142,
   "id": "5e4f9f29",
   "metadata": {},
   "outputs": [
    {
     "data": {
      "text/plain": [
       "array([[0.46266731],\n",
       "       [0.4152556 ],\n",
       "       [0.48040639],\n",
       "       [0.48330914],\n",
       "       [0.52636672],\n",
       "       [0.53846154],\n",
       "       [0.47008547],\n",
       "       [0.4518626 ],\n",
       "       [0.56119981],\n",
       "       [0.53830027],\n",
       "       [0.56313498],\n",
       "       [0.59635543],\n",
       "       [0.63247863],\n",
       "       [0.65828092],\n",
       "       [0.73665538],\n",
       "       [0.66021609],\n",
       "       [0.51781971],\n",
       "       [0.66763425],\n",
       "       [0.73246251],\n",
       "       [0.72004515],\n",
       "       [0.77600387],\n",
       "       [0.89791969],\n",
       "       [0.76519916],\n",
       "       [0.88727625],\n",
       "       [1.        ],\n",
       "       [0.99274311],\n",
       "       [1.06047412],\n",
       "       [1.22254475],\n",
       "       [1.24818578],\n",
       "       [1.52362522],\n",
       "       [1.52475407],\n",
       "       [1.60119336],\n",
       "       [1.76084502],\n",
       "       [1.92597968],\n",
       "       [1.72939848],\n",
       "       [1.97129495],\n",
       "       [1.87743912],\n",
       "       [1.91340106],\n",
       "       [1.76858571],\n",
       "       [1.7555233 ],\n",
       "       [1.83228512],\n",
       "       [1.43428479],\n",
       "       [1.41928721],\n",
       "       [1.34397678],\n",
       "       [1.46121593],\n",
       "       [1.34042896],\n",
       "       [1.13078536],\n",
       "       [1.10675697],\n",
       "       [1.21625544],\n",
       "       [1.21351395]])"
      ]
     },
     "execution_count": 142,
     "metadata": {},
     "output_type": "execute_result"
    }
   ],
   "source": [
    "XCS = scaller.transform(Xc)\n",
    "XCS"
   ]
  },
  {
   "cell_type": "code",
   "execution_count": 143,
   "id": "a27a4b06",
   "metadata": {},
   "outputs": [
    {
     "data": {
      "text/plain": [
       "[array([0.46266731, 0.4152556 , 0.48040639, 0.48330914, 0.52636672,\n",
       "        0.53846154, 0.47008547, 0.4518626 , 0.56119981, 0.53830027,\n",
       "        0.56313498, 0.59635543, 0.63247863, 0.65828092, 0.73665538,\n",
       "        0.66021609, 0.51781971, 0.66763425, 0.73246251, 0.72004515,\n",
       "        0.77600387, 0.89791969, 0.76519916, 0.88727625, 1.        ]),\n",
       " array([0.4152556 , 0.48040639, 0.48330914, 0.52636672, 0.53846154,\n",
       "        0.47008547, 0.4518626 , 0.56119981, 0.53830027, 0.56313498,\n",
       "        0.59635543, 0.63247863, 0.65828092, 0.73665538, 0.66021609,\n",
       "        0.51781971, 0.66763425, 0.73246251, 0.72004515, 0.77600387,\n",
       "        0.89791969, 0.76519916, 0.88727625, 1.        , 0.99274311]),\n",
       " array([0.48040639, 0.48330914, 0.52636672, 0.53846154, 0.47008547,\n",
       "        0.4518626 , 0.56119981, 0.53830027, 0.56313498, 0.59635543,\n",
       "        0.63247863, 0.65828092, 0.73665538, 0.66021609, 0.51781971,\n",
       "        0.66763425, 0.73246251, 0.72004515, 0.77600387, 0.89791969,\n",
       "        0.76519916, 0.88727625, 1.        , 0.99274311, 1.06047412]),\n",
       " array([0.48330914, 0.52636672, 0.53846154, 0.47008547, 0.4518626 ,\n",
       "        0.56119981, 0.53830027, 0.56313498, 0.59635543, 0.63247863,\n",
       "        0.65828092, 0.73665538, 0.66021609, 0.51781971, 0.66763425,\n",
       "        0.73246251, 0.72004515, 0.77600387, 0.89791969, 0.76519916,\n",
       "        0.88727625, 1.        , 0.99274311, 1.06047412, 1.22254475]),\n",
       " array([0.52636672, 0.53846154, 0.47008547, 0.4518626 , 0.56119981,\n",
       "        0.53830027, 0.56313498, 0.59635543, 0.63247863, 0.65828092,\n",
       "        0.73665538, 0.66021609, 0.51781971, 0.66763425, 0.73246251,\n",
       "        0.72004515, 0.77600387, 0.89791969, 0.76519916, 0.88727625,\n",
       "        1.        , 0.99274311, 1.06047412, 1.22254475, 1.24818578]),\n",
       " array([0.53846154, 0.47008547, 0.4518626 , 0.56119981, 0.53830027,\n",
       "        0.56313498, 0.59635543, 0.63247863, 0.65828092, 0.73665538,\n",
       "        0.66021609, 0.51781971, 0.66763425, 0.73246251, 0.72004515,\n",
       "        0.77600387, 0.89791969, 0.76519916, 0.88727625, 1.        ,\n",
       "        0.99274311, 1.06047412, 1.22254475, 1.24818578, 1.52362522]),\n",
       " array([0.47008547, 0.4518626 , 0.56119981, 0.53830027, 0.56313498,\n",
       "        0.59635543, 0.63247863, 0.65828092, 0.73665538, 0.66021609,\n",
       "        0.51781971, 0.66763425, 0.73246251, 0.72004515, 0.77600387,\n",
       "        0.89791969, 0.76519916, 0.88727625, 1.        , 0.99274311,\n",
       "        1.06047412, 1.22254475, 1.24818578, 1.52362522, 1.52475407]),\n",
       " array([0.4518626 , 0.56119981, 0.53830027, 0.56313498, 0.59635543,\n",
       "        0.63247863, 0.65828092, 0.73665538, 0.66021609, 0.51781971,\n",
       "        0.66763425, 0.73246251, 0.72004515, 0.77600387, 0.89791969,\n",
       "        0.76519916, 0.88727625, 1.        , 0.99274311, 1.06047412,\n",
       "        1.22254475, 1.24818578, 1.52362522, 1.52475407, 1.60119336]),\n",
       " array([0.56119981, 0.53830027, 0.56313498, 0.59635543, 0.63247863,\n",
       "        0.65828092, 0.73665538, 0.66021609, 0.51781971, 0.66763425,\n",
       "        0.73246251, 0.72004515, 0.77600387, 0.89791969, 0.76519916,\n",
       "        0.88727625, 1.        , 0.99274311, 1.06047412, 1.22254475,\n",
       "        1.24818578, 1.52362522, 1.52475407, 1.60119336, 1.76084502]),\n",
       " array([0.53830027, 0.56313498, 0.59635543, 0.63247863, 0.65828092,\n",
       "        0.73665538, 0.66021609, 0.51781971, 0.66763425, 0.73246251,\n",
       "        0.72004515, 0.77600387, 0.89791969, 0.76519916, 0.88727625,\n",
       "        1.        , 0.99274311, 1.06047412, 1.22254475, 1.24818578,\n",
       "        1.52362522, 1.52475407, 1.60119336, 1.76084502, 1.92597968]),\n",
       " array([0.56313498, 0.59635543, 0.63247863, 0.65828092, 0.73665538,\n",
       "        0.66021609, 0.51781971, 0.66763425, 0.73246251, 0.72004515,\n",
       "        0.77600387, 0.89791969, 0.76519916, 0.88727625, 1.        ,\n",
       "        0.99274311, 1.06047412, 1.22254475, 1.24818578, 1.52362522,\n",
       "        1.52475407, 1.60119336, 1.76084502, 1.92597968, 1.72939848]),\n",
       " array([0.59635543, 0.63247863, 0.65828092, 0.73665538, 0.66021609,\n",
       "        0.51781971, 0.66763425, 0.73246251, 0.72004515, 0.77600387,\n",
       "        0.89791969, 0.76519916, 0.88727625, 1.        , 0.99274311,\n",
       "        1.06047412, 1.22254475, 1.24818578, 1.52362522, 1.52475407,\n",
       "        1.60119336, 1.76084502, 1.92597968, 1.72939848, 1.97129495]),\n",
       " array([0.63247863, 0.65828092, 0.73665538, 0.66021609, 0.51781971,\n",
       "        0.66763425, 0.73246251, 0.72004515, 0.77600387, 0.89791969,\n",
       "        0.76519916, 0.88727625, 1.        , 0.99274311, 1.06047412,\n",
       "        1.22254475, 1.24818578, 1.52362522, 1.52475407, 1.60119336,\n",
       "        1.76084502, 1.92597968, 1.72939848, 1.97129495, 1.87743912]),\n",
       " array([0.65828092, 0.73665538, 0.66021609, 0.51781971, 0.66763425,\n",
       "        0.73246251, 0.72004515, 0.77600387, 0.89791969, 0.76519916,\n",
       "        0.88727625, 1.        , 0.99274311, 1.06047412, 1.22254475,\n",
       "        1.24818578, 1.52362522, 1.52475407, 1.60119336, 1.76084502,\n",
       "        1.92597968, 1.72939848, 1.97129495, 1.87743912, 1.91340106]),\n",
       " array([0.73665538, 0.66021609, 0.51781971, 0.66763425, 0.73246251,\n",
       "        0.72004515, 0.77600387, 0.89791969, 0.76519916, 0.88727625,\n",
       "        1.        , 0.99274311, 1.06047412, 1.22254475, 1.24818578,\n",
       "        1.52362522, 1.52475407, 1.60119336, 1.76084502, 1.92597968,\n",
       "        1.72939848, 1.97129495, 1.87743912, 1.91340106, 1.76858571]),\n",
       " array([0.66021609, 0.51781971, 0.66763425, 0.73246251, 0.72004515,\n",
       "        0.77600387, 0.89791969, 0.76519916, 0.88727625, 1.        ,\n",
       "        0.99274311, 1.06047412, 1.22254475, 1.24818578, 1.52362522,\n",
       "        1.52475407, 1.60119336, 1.76084502, 1.92597968, 1.72939848,\n",
       "        1.97129495, 1.87743912, 1.91340106, 1.76858571, 1.7555233 ]),\n",
       " array([0.51781971, 0.66763425, 0.73246251, 0.72004515, 0.77600387,\n",
       "        0.89791969, 0.76519916, 0.88727625, 1.        , 0.99274311,\n",
       "        1.06047412, 1.22254475, 1.24818578, 1.52362522, 1.52475407,\n",
       "        1.60119336, 1.76084502, 1.92597968, 1.72939848, 1.97129495,\n",
       "        1.87743912, 1.91340106, 1.76858571, 1.7555233 , 1.83228512]),\n",
       " array([0.66763425, 0.73246251, 0.72004515, 0.77600387, 0.89791969,\n",
       "        0.76519916, 0.88727625, 1.        , 0.99274311, 1.06047412,\n",
       "        1.22254475, 1.24818578, 1.52362522, 1.52475407, 1.60119336,\n",
       "        1.76084502, 1.92597968, 1.72939848, 1.97129495, 1.87743912,\n",
       "        1.91340106, 1.76858571, 1.7555233 , 1.83228512, 1.43428479]),\n",
       " array([0.73246251, 0.72004515, 0.77600387, 0.89791969, 0.76519916,\n",
       "        0.88727625, 1.        , 0.99274311, 1.06047412, 1.22254475,\n",
       "        1.24818578, 1.52362522, 1.52475407, 1.60119336, 1.76084502,\n",
       "        1.92597968, 1.72939848, 1.97129495, 1.87743912, 1.91340106,\n",
       "        1.76858571, 1.7555233 , 1.83228512, 1.43428479, 1.41928721]),\n",
       " array([0.72004515, 0.77600387, 0.89791969, 0.76519916, 0.88727625,\n",
       "        1.        , 0.99274311, 1.06047412, 1.22254475, 1.24818578,\n",
       "        1.52362522, 1.52475407, 1.60119336, 1.76084502, 1.92597968,\n",
       "        1.72939848, 1.97129495, 1.87743912, 1.91340106, 1.76858571,\n",
       "        1.7555233 , 1.83228512, 1.43428479, 1.41928721, 1.34397678]),\n",
       " array([0.77600387, 0.89791969, 0.76519916, 0.88727625, 1.        ,\n",
       "        0.99274311, 1.06047412, 1.22254475, 1.24818578, 1.52362522,\n",
       "        1.52475407, 1.60119336, 1.76084502, 1.92597968, 1.72939848,\n",
       "        1.97129495, 1.87743912, 1.91340106, 1.76858571, 1.7555233 ,\n",
       "        1.83228512, 1.43428479, 1.41928721, 1.34397678, 1.46121593]),\n",
       " array([0.89791969, 0.76519916, 0.88727625, 1.        , 0.99274311,\n",
       "        1.06047412, 1.22254475, 1.24818578, 1.52362522, 1.52475407,\n",
       "        1.60119336, 1.76084502, 1.92597968, 1.72939848, 1.97129495,\n",
       "        1.87743912, 1.91340106, 1.76858571, 1.7555233 , 1.83228512,\n",
       "        1.43428479, 1.41928721, 1.34397678, 1.46121593, 1.34042896]),\n",
       " array([0.76519916, 0.88727625, 1.        , 0.99274311, 1.06047412,\n",
       "        1.22254475, 1.24818578, 1.52362522, 1.52475407, 1.60119336,\n",
       "        1.76084502, 1.92597968, 1.72939848, 1.97129495, 1.87743912,\n",
       "        1.91340106, 1.76858571, 1.7555233 , 1.83228512, 1.43428479,\n",
       "        1.41928721, 1.34397678, 1.46121593, 1.34042896, 1.13078536]),\n",
       " array([0.88727625, 1.        , 0.99274311, 1.06047412, 1.22254475,\n",
       "        1.24818578, 1.52362522, 1.52475407, 1.60119336, 1.76084502,\n",
       "        1.92597968, 1.72939848, 1.97129495, 1.87743912, 1.91340106,\n",
       "        1.76858571, 1.7555233 , 1.83228512, 1.43428479, 1.41928721,\n",
       "        1.34397678, 1.46121593, 1.34042896, 1.13078536, 1.10675697]),\n",
       " array([1.        , 0.99274311, 1.06047412, 1.22254475, 1.24818578,\n",
       "        1.52362522, 1.52475407, 1.60119336, 1.76084502, 1.92597968,\n",
       "        1.72939848, 1.97129495, 1.87743912, 1.91340106, 1.76858571,\n",
       "        1.7555233 , 1.83228512, 1.43428479, 1.41928721, 1.34397678,\n",
       "        1.46121593, 1.34042896, 1.13078536, 1.10675697, 1.21625544])]"
      ]
     },
     "execution_count": 143,
     "metadata": {},
     "output_type": "execute_result"
    }
   ],
   "source": [
    "X_final = []\n",
    "for i in range(timesteps,XCS.shape[0]):\n",
    "    X_final.append(XCS[i-timesteps:i,0])\n",
    "X_final"
   ]
  },
  {
   "cell_type": "code",
   "execution_count": 144,
   "id": "650fa774",
   "metadata": {},
   "outputs": [
    {
     "data": {
      "text/plain": [
       "(25, 25)"
      ]
     },
     "execution_count": 144,
     "metadata": {},
     "output_type": "execute_result"
    }
   ],
   "source": [
    "X_final = np.array(X_final)\n",
    "X_final.shape"
   ]
  },
  {
   "cell_type": "code",
   "execution_count": 145,
   "id": "082feabd",
   "metadata": {},
   "outputs": [
    {
     "data": {
      "text/plain": [
       "(25, 25, 1)"
      ]
     },
     "execution_count": 145,
     "metadata": {},
     "output_type": "execute_result"
    }
   ],
   "source": [
    "X_final = X_final.reshape(X_final.shape[0],X_final.shape[1],1)\n",
    "X_final.shape"
   ]
  },
  {
   "cell_type": "code",
   "execution_count": 146,
   "id": "d41b5c54",
   "metadata": {},
   "outputs": [
    {
     "name": "stdout",
     "output_type": "stream",
     "text": [
      "1/1 [==============================] - 0s 351ms/step\n"
     ]
    },
    {
     "data": {
      "text/plain": [
       "array([[ 87.38672 ],\n",
       "       [ 90.842735],\n",
       "       [ 94.82481 ],\n",
       "       [100.73832 ],\n",
       "       [106.07027 ],\n",
       "       [114.287796],\n",
       "       [120.94988 ],\n",
       "       [127.08834 ],\n",
       "       [133.52408 ],\n",
       "       [139.79294 ],\n",
       "       [142.80075 ],\n",
       "       [146.84814 ],\n",
       "       [149.17928 ],\n",
       "       [151.12367 ],\n",
       "       [151.75845 ],\n",
       "       [152.28615 ],\n",
       "       [153.22617 ],\n",
       "       [151.60919 ],\n",
       "       [150.4436  ],\n",
       "       [149.11687 ],\n",
       "       [148.87206 ],\n",
       "       [147.69994 ],\n",
       "       [144.97133 ],\n",
       "       [142.44325 ],\n",
       "       [141.26234 ]], dtype=float32)"
      ]
     },
     "execution_count": 146,
     "metadata": {},
     "output_type": "execute_result"
    }
   ],
   "source": [
    "predict = model.predict(X_final)\n",
    "normal = scaller.inverse_transform(predict)\n",
    "normal"
   ]
  },
  {
   "cell_type": "code",
   "execution_count": 147,
   "id": "9efce27b",
   "metadata": {},
   "outputs": [
    {
     "data": {
      "text/plain": [
       "array([[ 87.59],\n",
       "       [ 91.79],\n",
       "       [101.84],\n",
       "       [103.43],\n",
       "       [120.51],\n",
       "       [120.58],\n",
       "       [125.32],\n",
       "       [135.22],\n",
       "       [145.46],\n",
       "       [133.27],\n",
       "       [148.27],\n",
       "       [142.45],\n",
       "       [144.68],\n",
       "       [135.7 ],\n",
       "       [134.89],\n",
       "       [139.65],\n",
       "       [114.97],\n",
       "       [114.04],\n",
       "       [109.37],\n",
       "       [116.64],\n",
       "       [109.15],\n",
       "       [ 96.15],\n",
       "       [ 94.66],\n",
       "       [101.45],\n",
       "       [101.28]])"
      ]
     },
     "execution_count": 147,
     "metadata": {},
     "output_type": "execute_result"
    }
   ],
   "source": [
    "test"
   ]
  },
  {
   "cell_type": "code",
   "execution_count": 148,
   "id": "ab5483a0",
   "metadata": {},
   "outputs": [
    {
     "data": {
      "text/plain": [
       "array([[0.989465 ],\n",
       "       [1.0451982],\n",
       "       [1.1094148],\n",
       "       [1.2047787],\n",
       "       [1.2907639],\n",
       "       [1.4232833],\n",
       "       [1.530719 ],\n",
       "       [1.6297104],\n",
       "       [1.733496 ],\n",
       "       [1.8345902],\n",
       "       [1.8830955],\n",
       "       [1.9483654],\n",
       "       [1.9859583],\n",
       "       [2.0173147],\n",
       "       [2.0275514],\n",
       "       [2.036061 ],\n",
       "       [2.0512202],\n",
       "       [2.0251443],\n",
       "       [2.0063474],\n",
       "       [1.984952 ],\n",
       "       [1.981004 ],\n",
       "       [1.9621019],\n",
       "       [1.9180992],\n",
       "       [1.8773303],\n",
       "       [1.8582866]], dtype=float32)"
      ]
     },
     "execution_count": 148,
     "metadata": {},
     "output_type": "execute_result"
    }
   ],
   "source": [
    "predict"
   ]
  },
  {
   "cell_type": "code",
   "execution_count": 151,
   "id": "826db802",
   "metadata": {},
   "outputs": [
    {
     "data": {
      "image/png": "[encoded data removed]",
      "text/plain": [
       "<Figure size 640x320 with 1 Axes>"
      ]
     },
     "metadata": {},
     "output_type": "display_data"
    }
   ],
   "source": [
    "plt.figure(figsize=(8,4), dpi=80, facecolor='w', edgecolor='k')\n",
    "plt.plot(test,color=\"orange\",label=\"Real value\")\n",
    "plt.plot(normal,color=\"c\",label=\"LSTM predicted result\")\n",
    "plt.legend()\n",
    "plt.xlabel(\"Days\")\n",
    "plt.ylabel(\"Values\")\n",
    "plt.grid(True)\n",
    "plt.show()"
   ]
  },
  {
   "cell_type": "code",
   "execution_count": 154,
   "id": "6db10d70",
   "metadata": {},
   "outputs": [
    {
     "data": {
      "text/plain": [
       "-1.0057847055412132"
      ]
     },
     "execution_count": 154,
     "metadata": {},
     "output_type": "execute_result"
    }
   ],
   "source": [
    "r2_score(test,normal)"
   ]
  },
  {
   "cell_type": "code",
   "execution_count": null,
   "id": "bc0fe6f2",
   "metadata": {},
   "outputs": [],
   "source": []
  }
 ],
 "metadata": {
  "kernelspec": {
   "display_name": "Python 3 (ipykernel)",
   "language": "python",
   "name": "python3"
  },
  "language_info": {
   "codemirror_mode": {
    "name": "ipython",
    "version": 3
   },
   "file_extension": ".py",
   "mimetype": "text/x-python",
   "name": "python",
   "nbconvert_exporter": "python",
   "pygments_lexer": "ipython3",
   "version": "3.9.12"
  }
 },
 "nbformat": 4,
 "nbformat_minor": 5
}
