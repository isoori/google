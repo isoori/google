{
 "cells": [
  {
   "cell_type": "code",
   "execution_count": 73,
   "id": "74aa9034",
   "metadata": {},
   "outputs": [],
   "source": [
    "import numpy as np\n",
    "import pandas as pd\n",
    "\n",
    "from sklearn.preprocessing import MinMaxScaler"
   ]
  },
  {
   "cell_type": "code",
   "execution_count": 55,
   "id": "443d2dd3",
   "metadata": {},
   "outputs": [
    {
     "data": {
      "text/html": [
       "<div>\n",
       "<style scoped>\n",
       "    .dataframe tbody tr th:only-of-type {\n",
       "        vertical-align: middle;\n",
       "    }\n",
       "\n",
       "    .dataframe tbody tr th {\n",
       "        vertical-align: top;\n",
       "    }\n",
       "\n",
       "    .dataframe thead th {\n",
       "        text-align: right;\n",
       "    }\n",
       "</style>\n",
       "<table border=\"1\" class=\"dataframe\">\n",
       "  <thead>\n",
       "    <tr style=\"text-align: right;\">\n",
       "      <th></th>\n",
       "      <th>Month Starting</th>\n",
       "      <th>Open</th>\n",
       "      <th>High</th>\n",
       "      <th>Low</th>\n",
       "      <th>Close</th>\n",
       "      <th>Change %</th>\n",
       "      <th>Avg. Volume</th>\n",
       "    </tr>\n",
       "  </thead>\n",
       "  <tbody>\n",
       "    <tr>\n",
       "      <th>0</th>\n",
       "      <td>Dec. 01, 2022</td>\n",
       "      <td>101.38</td>\n",
       "      <td>102.59</td>\n",
       "      <td>100.67</td>\n",
       "      <td>101.28</td>\n",
       "      <td>-0.0017</td>\n",
       "      <td>21771536</td>\n",
       "    </tr>\n",
       "    <tr>\n",
       "      <th>1</th>\n",
       "      <td>Nov. 01, 2022</td>\n",
       "      <td>95.59</td>\n",
       "      <td>101.45</td>\n",
       "      <td>83.45</td>\n",
       "      <td>101.45</td>\n",
       "      <td>0.0717</td>\n",
       "      <td>28294944</td>\n",
       "    </tr>\n",
       "    <tr>\n",
       "      <th>2</th>\n",
       "      <td>Oct. 03, 2022</td>\n",
       "      <td>97.22</td>\n",
       "      <td>105.10</td>\n",
       "      <td>91.90</td>\n",
       "      <td>94.66</td>\n",
       "      <td>-0.0155</td>\n",
       "      <td>27843110</td>\n",
       "    </tr>\n",
       "    <tr>\n",
       "      <th>3</th>\n",
       "      <td>Sep. 01, 2022</td>\n",
       "      <td>109.20</td>\n",
       "      <td>112.64</td>\n",
       "      <td>96.03</td>\n",
       "      <td>96.15</td>\n",
       "      <td>-0.1191</td>\n",
       "      <td>25381194</td>\n",
       "    </tr>\n",
       "    <tr>\n",
       "      <th>4</th>\n",
       "      <td>Aug. 01, 2022</td>\n",
       "      <td>115.53</td>\n",
       "      <td>123.26</td>\n",
       "      <td>108.80</td>\n",
       "      <td>109.15</td>\n",
       "      <td>-0.0642</td>\n",
       "      <td>18737451</td>\n",
       "    </tr>\n",
       "    <tr>\n",
       "      <th>...</th>\n",
       "      <td>...</td>\n",
       "      <td>...</td>\n",
       "      <td>...</td>\n",
       "      <td>...</td>\n",
       "      <td>...</td>\n",
       "      <td>...</td>\n",
       "      <td>...</td>\n",
       "    </tr>\n",
       "    <tr>\n",
       "      <th>101</th>\n",
       "      <td>Jul. 01, 2014</td>\n",
       "      <td>28.92</td>\n",
       "      <td>29.98</td>\n",
       "      <td>28.25</td>\n",
       "      <td>28.58</td>\n",
       "      <td>-0.0064</td>\n",
       "      <td>31411358</td>\n",
       "    </tr>\n",
       "    <tr>\n",
       "      <th>102</th>\n",
       "      <td>Jun. 02, 2014</td>\n",
       "      <td>28.03</td>\n",
       "      <td>29.12</td>\n",
       "      <td>26.94</td>\n",
       "      <td>28.76</td>\n",
       "      <td>0.0275</td>\n",
       "      <td>36121936</td>\n",
       "    </tr>\n",
       "    <tr>\n",
       "      <th>103</th>\n",
       "      <td>May. 01, 2014</td>\n",
       "      <td>26.35</td>\n",
       "      <td>28.39</td>\n",
       "      <td>25.16</td>\n",
       "      <td>27.99</td>\n",
       "      <td>0.0631</td>\n",
       "      <td>34808252</td>\n",
       "    </tr>\n",
       "    <tr>\n",
       "      <th>104</th>\n",
       "      <td>Apr. 01, 2014</td>\n",
       "      <td>27.93</td>\n",
       "      <td>30.24</td>\n",
       "      <td>25.14</td>\n",
       "      <td>26.33</td>\n",
       "      <td>-0.0544</td>\n",
       "      <td>64037909</td>\n",
       "    </tr>\n",
       "    <tr>\n",
       "      <th>105</th>\n",
       "      <td>Mar. 27, 2014</td>\n",
       "      <td>28.40</td>\n",
       "      <td>28.40</td>\n",
       "      <td>27.65</td>\n",
       "      <td>27.85</td>\n",
       "      <td>0.0000</td>\n",
       "      <td>432192</td>\n",
       "    </tr>\n",
       "  </tbody>\n",
       "</table>\n",
       "<p>106 rows × 7 columns</p>\n",
       "</div>"
      ],
      "text/plain": [
       "    Month Starting    Open    High     Low   Close  Change %  Avg. Volume\n",
       "0    Dec. 01, 2022  101.38  102.59  100.67  101.28   -0.0017     21771536\n",
       "1    Nov. 01, 2022   95.59  101.45   83.45  101.45    0.0717     28294944\n",
       "2    Oct. 03, 2022   97.22  105.10   91.90   94.66   -0.0155     27843110\n",
       "3    Sep. 01, 2022  109.20  112.64   96.03   96.15   -0.1191     25381194\n",
       "4    Aug. 01, 2022  115.53  123.26  108.80  109.15   -0.0642     18737451\n",
       "..             ...     ...     ...     ...     ...       ...          ...\n",
       "101  Jul. 01, 2014   28.92   29.98   28.25   28.58   -0.0064     31411358\n",
       "102  Jun. 02, 2014   28.03   29.12   26.94   28.76    0.0275     36121936\n",
       "103  May. 01, 2014   26.35   28.39   25.16   27.99    0.0631     34808252\n",
       "104  Apr. 01, 2014   27.93   30.24   25.14   26.33   -0.0544     64037909\n",
       "105  Mar. 27, 2014   28.40   28.40   27.65   27.85    0.0000       432192\n",
       "\n",
       "[106 rows x 7 columns]"
      ]
     },
     "execution_count": 55,
     "metadata": {},
     "output_type": "execute_result"
    }
   ],
   "source": [
    "data = pd.read_excel(\"Google Dataset.xlsx\")\n",
    "data"
   ]
  },
  {
   "cell_type": "code",
   "execution_count": 56,
   "id": "89887876",
   "metadata": {},
   "outputs": [],
   "source": [
    "data.rename(columns={\"Month Starting\":\"date\"},inplace=True)"
   ]
  },
  {
   "cell_type": "code",
   "execution_count": 57,
   "id": "8d206d34",
   "metadata": {},
   "outputs": [],
   "source": [
    "data = data.iloc[::-1]"
   ]
  },
  {
   "cell_type": "code",
   "execution_count": 59,
   "id": "d46763d2",
   "metadata": {},
   "outputs": [],
   "source": [
    "data=data.reset_index(drop=True)"
   ]
  },
  {
   "cell_type": "code",
   "execution_count": 60,
   "id": "c2215479",
   "metadata": {},
   "outputs": [
    {
     "data": {
      "text/html": [
       "<div>\n",
       "<style scoped>\n",
       "    .dataframe tbody tr th:only-of-type {\n",
       "        vertical-align: middle;\n",
       "    }\n",
       "\n",
       "    .dataframe tbody tr th {\n",
       "        vertical-align: top;\n",
       "    }\n",
       "\n",
       "    .dataframe thead th {\n",
       "        text-align: right;\n",
       "    }\n",
       "</style>\n",
       "<table border=\"1\" class=\"dataframe\">\n",
       "  <thead>\n",
       "    <tr style=\"text-align: right;\">\n",
       "      <th></th>\n",
       "      <th>date</th>\n",
       "      <th>Open</th>\n",
       "      <th>High</th>\n",
       "      <th>Low</th>\n",
       "      <th>Close</th>\n",
       "      <th>Change %</th>\n",
       "      <th>Avg. Volume</th>\n",
       "    </tr>\n",
       "  </thead>\n",
       "  <tbody>\n",
       "    <tr>\n",
       "      <th>0</th>\n",
       "      <td>Mar. 27, 2014</td>\n",
       "      <td>28.40</td>\n",
       "      <td>28.40</td>\n",
       "      <td>27.65</td>\n",
       "      <td>27.85</td>\n",
       "      <td>0.0000</td>\n",
       "      <td>432192</td>\n",
       "    </tr>\n",
       "    <tr>\n",
       "      <th>1</th>\n",
       "      <td>Apr. 01, 2014</td>\n",
       "      <td>27.93</td>\n",
       "      <td>30.24</td>\n",
       "      <td>25.14</td>\n",
       "      <td>26.33</td>\n",
       "      <td>-0.0544</td>\n",
       "      <td>64037909</td>\n",
       "    </tr>\n",
       "    <tr>\n",
       "      <th>2</th>\n",
       "      <td>May. 01, 2014</td>\n",
       "      <td>26.35</td>\n",
       "      <td>28.39</td>\n",
       "      <td>25.16</td>\n",
       "      <td>27.99</td>\n",
       "      <td>0.0631</td>\n",
       "      <td>34808252</td>\n",
       "    </tr>\n",
       "    <tr>\n",
       "      <th>3</th>\n",
       "      <td>Jun. 02, 2014</td>\n",
       "      <td>28.03</td>\n",
       "      <td>29.12</td>\n",
       "      <td>26.94</td>\n",
       "      <td>28.76</td>\n",
       "      <td>0.0275</td>\n",
       "      <td>36121936</td>\n",
       "    </tr>\n",
       "    <tr>\n",
       "      <th>4</th>\n",
       "      <td>Jul. 01, 2014</td>\n",
       "      <td>28.92</td>\n",
       "      <td>29.98</td>\n",
       "      <td>28.25</td>\n",
       "      <td>28.58</td>\n",
       "      <td>-0.0064</td>\n",
       "      <td>31411358</td>\n",
       "    </tr>\n",
       "    <tr>\n",
       "      <th>...</th>\n",
       "      <td>...</td>\n",
       "      <td>...</td>\n",
       "      <td>...</td>\n",
       "      <td>...</td>\n",
       "      <td>...</td>\n",
       "      <td>...</td>\n",
       "      <td>...</td>\n",
       "    </tr>\n",
       "    <tr>\n",
       "      <th>101</th>\n",
       "      <td>Aug. 01, 2022</td>\n",
       "      <td>115.53</td>\n",
       "      <td>123.26</td>\n",
       "      <td>108.80</td>\n",
       "      <td>109.15</td>\n",
       "      <td>-0.0642</td>\n",
       "      <td>18737451</td>\n",
       "    </tr>\n",
       "    <tr>\n",
       "      <th>102</th>\n",
       "      <td>Sep. 01, 2022</td>\n",
       "      <td>109.20</td>\n",
       "      <td>112.64</td>\n",
       "      <td>96.03</td>\n",
       "      <td>96.15</td>\n",
       "      <td>-0.1191</td>\n",
       "      <td>25381194</td>\n",
       "    </tr>\n",
       "    <tr>\n",
       "      <th>103</th>\n",
       "      <td>Oct. 03, 2022</td>\n",
       "      <td>97.22</td>\n",
       "      <td>105.10</td>\n",
       "      <td>91.90</td>\n",
       "      <td>94.66</td>\n",
       "      <td>-0.0155</td>\n",
       "      <td>27843110</td>\n",
       "    </tr>\n",
       "    <tr>\n",
       "      <th>104</th>\n",
       "      <td>Nov. 01, 2022</td>\n",
       "      <td>95.59</td>\n",
       "      <td>101.45</td>\n",
       "      <td>83.45</td>\n",
       "      <td>101.45</td>\n",
       "      <td>0.0717</td>\n",
       "      <td>28294944</td>\n",
       "    </tr>\n",
       "    <tr>\n",
       "      <th>105</th>\n",
       "      <td>Dec. 01, 2022</td>\n",
       "      <td>101.38</td>\n",
       "      <td>102.59</td>\n",
       "      <td>100.67</td>\n",
       "      <td>101.28</td>\n",
       "      <td>-0.0017</td>\n",
       "      <td>21771536</td>\n",
       "    </tr>\n",
       "  </tbody>\n",
       "</table>\n",
       "<p>106 rows × 7 columns</p>\n",
       "</div>"
      ],
      "text/plain": [
       "              date    Open    High     Low   Close  Change %  Avg. Volume\n",
       "0    Mar. 27, 2014   28.40   28.40   27.65   27.85    0.0000       432192\n",
       "1    Apr. 01, 2014   27.93   30.24   25.14   26.33   -0.0544     64037909\n",
       "2    May. 01, 2014   26.35   28.39   25.16   27.99    0.0631     34808252\n",
       "3    Jun. 02, 2014   28.03   29.12   26.94   28.76    0.0275     36121936\n",
       "4    Jul. 01, 2014   28.92   29.98   28.25   28.58   -0.0064     31411358\n",
       "..             ...     ...     ...     ...     ...       ...          ...\n",
       "101  Aug. 01, 2022  115.53  123.26  108.80  109.15   -0.0642     18737451\n",
       "102  Sep. 01, 2022  109.20  112.64   96.03   96.15   -0.1191     25381194\n",
       "103  Oct. 03, 2022   97.22  105.10   91.90   94.66   -0.0155     27843110\n",
       "104  Nov. 01, 2022   95.59  101.45   83.45  101.45    0.0717     28294944\n",
       "105  Dec. 01, 2022  101.38  102.59  100.67  101.28   -0.0017     21771536\n",
       "\n",
       "[106 rows x 7 columns]"
      ]
     },
     "execution_count": 60,
     "metadata": {},
     "output_type": "execute_result"
    }
   ],
   "source": [
    "data"
   ]
  },
  {
   "cell_type": "code",
   "execution_count": 61,
   "id": "76a23df5",
   "metadata": {},
   "outputs": [
    {
     "data": {
      "text/plain": [
       "<AxesSubplot:>"
      ]
     },
     "execution_count": 61,
     "metadata": {},
     "output_type": "execute_result"
    },
    {
     "data": {
      "image/png": "[encoded data removed]",
      "text/plain": [
       "<Figure size 432x288 with 1 Axes>"
      ]
     },
     "metadata": {
      "needs_background": "light"
     },
     "output_type": "display_data"
    }
   ],
   "source": [
    "data['Close'].plot()"
   ]
  },
  {
   "cell_type": "code",
   "execution_count": 69,
   "id": "0d8c3c03",
   "metadata": {},
   "outputs": [],
   "source": [
    "train = data['Close'][:len(data)-25].values\n",
    "test = data['Close'][len(train):].values\n"
   ]
  },
  {
   "cell_type": "code",
   "execution_count": 71,
   "id": "c2272fbf",
   "metadata": {},
   "outputs": [],
   "source": [
    "train = train.reshape(-1,1)"
   ]
  },
  {
   "cell_type": "code",
   "execution_count": 72,
   "id": "b34de1fd",
   "metadata": {},
   "outputs": [
    {
     "data": {
      "text/plain": [
       "array([ 87.59,  91.79, 101.84, 103.43, 120.51, 120.58, 125.32, 135.22,\n",
       "       145.46, 133.27, 148.27, 142.45, 144.68, 135.7 , 134.89, 139.65,\n",
       "       114.97, 114.04, 109.37, 116.64, 109.15,  96.15,  94.66, 101.45,\n",
       "       101.28])"
      ]
     },
     "execution_count": 72,
     "metadata": {},
     "output_type": "execute_result"
    }
   ],
   "source": [
    "test"
   ]
  },
  {
   "cell_type": "code",
   "execution_count": 75,
   "id": "7c307aa8",
   "metadata": {},
   "outputs": [],
   "source": [
    "scaller = MinMaxScaler(feature_range=(0,1))\n",
    "train_scalled = scaller.fit_transform(train)"
   ]
  },
  {
   "cell_type": "code",
   "execution_count": 76,
   "id": "02a6d39a",
   "metadata": {},
   "outputs": [],
   "source": [
    "X_train , y_train = [] , []\n",
    "timesteps = 25\n",
    "\n",
    "for i in range(timesteps, train_scalled.shape[0]):\n",
    "    X_train.append(train_scalled[i-timesteps:i,0])\n",
    "    y_train.append(i)\n"
   ]
  },
  {
   "cell_type": "code",
   "execution_count": 79,
   "id": "8f8179af",
   "metadata": {},
   "outputs": [],
   "source": [
    "X_train = np.array(X_train)\n",
    "y_train = np.array(y_train)"
   ]
  },
  {
   "cell_type": "code",
   "execution_count": 80,
   "id": "a573dec7",
   "metadata": {},
   "outputs": [
    {
     "data": {
      "text/plain": [
       "(56, 25)"
      ]
     },
     "execution_count": 80,
     "metadata": {},
     "output_type": "execute_result"
    }
   ],
   "source": [
    "X_train.shape"
   ]
  },
  {
   "cell_type": "code",
   "execution_count": 81,
   "id": "9c0c1557",
   "metadata": {},
   "outputs": [
    {
     "data": {
      "text/plain": [
       "(56,)"
      ]
     },
     "execution_count": 81,
     "metadata": {},
     "output_type": "execute_result"
    }
   ],
   "source": [
    "y_train.shape"
   ]
  },
  {
   "cell_type": "code",
   "execution_count": null,
   "id": "91e2eeb8",
   "metadata": {},
   "outputs": [],
   "source": []
  }
 ],
 "metadata": {
  "kernelspec": {
   "display_name": "Python 3 (ipykernel)",
   "language": "python",
   "name": "python3"
  },
  "language_info": {
   "codemirror_mode": {
    "name": "ipython",
    "version": 3
   },
   "file_extension": ".py",
   "mimetype": "text/x-python",
   "name": "python",
   "nbconvert_exporter": "python",
   "pygments_lexer": "ipython3",
   "version": "3.9.12"
  }
 },
 "nbformat": 4,
 "nbformat_minor": 5
}
